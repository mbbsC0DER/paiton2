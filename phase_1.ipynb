{
 "cells": [
  {
   "cell_type": "markdown",
   "id": "ea10fd13",
   "metadata": {},
   "source": [
    "# Learning Numpy \n"
   ]
  },
  {
   "cell_type": "markdown",
   "id": "7fcd6b26",
   "metadata": {},
   "source": [
    "---"
   ]
  },
  {
   "cell_type": "code",
   "execution_count": 2,
   "id": "3bf3b778",
   "metadata": {},
   "outputs": [],
   "source": [
    "import numpy as np"
   ]
  },
  {
   "cell_type": "markdown",
   "id": "6412aeca",
   "metadata": {},
   "source": [
    "### creating arrays from list "
   ]
  },
  {
   "cell_type": "code",
   "execution_count": 6,
   "id": "55501c7e",
   "metadata": {},
   "outputs": [
    {
     "name": "stdout",
     "output_type": "stream",
     "text": [
      "1D array :  [1 2 3 4 5]\n",
      "2D array :  [[1 2 3]\n",
      " [4 5 6]]\n"
     ]
    }
   ],
   "source": [
    "arr_1d = np.array([1,2,3,4,5])\n",
    "print (\"1D array : \" , arr_1d)\n",
    "\n",
    "arr_2d = np.array([[1,2,3] , [4,5,6]])\n",
    "print (\"2D array : \" , arr_2d)"
   ]
  },
  {
   "cell_type": "markdown",
   "id": "fcd9ac62",
   "metadata": {},
   "source": [
    "### list vs numpy array"
   ]
  },
  {
   "cell_type": "code",
   "execution_count": null,
   "id": "2b0dfb5e",
   "metadata": {},
   "outputs": [
    {
     "name": "stdout",
     "output_type": "stream",
     "text": [
      "Python list multiplication :  [4, 3, 2, 4, 3, 2, 4, 3, 2]\n",
      "Python array multiplication :  [12  9  6]\n"
     ]
    }
   ],
   "source": [
    "py_list = [4,3,2]\n",
    "print (\"Python list multiplication : \" , py_list * 3 )\n",
    "\n",
    "np_array = np.array([4,3,2])\n",
    "print (\"Python array multiplication : \" , np_array * 3 ) \n"
   ]
  },
  {
   "cell_type": "code",
   "execution_count": 3,
   "id": "30701bd7",
   "metadata": {},
   "outputs": [
    {
     "name": "stdout",
     "output_type": "stream",
     "text": [
      " list time consumed :  0.021233558654785156\n",
      "array time consumed :  0.014811038970947266\n"
     ]
    }
   ],
   "source": [
    "import time \n",
    "import numpy as np \n",
    "start = time.time()\n",
    "li = [i *2 for i in range(100000)]\n",
    "print (\" list time consumed : \" , time.time() - start)\n",
    "\n",
    "start = time.time()\n",
    "np = np.array(100000) * 2 \n",
    "print (\"array time consumed : \" , time.time() - start)"
   ]
  },
  {
   "cell_type": "markdown",
   "id": "9e084dc2",
   "metadata": {},
   "source": [
    "### creating an array from scratch "
   ]
  },
  {
   "cell_type": "code",
   "execution_count": 9,
   "id": "1c90ed19",
   "metadata": {},
   "outputs": [
    {
     "name": "stdout",
     "output_type": "stream",
     "text": [
      "[[0. 0. 0.]\n",
      " [0. 0. 0.]\n",
      " [0. 0. 0.]]\n",
      "[[1. 1. 1.]\n",
      " [1. 1. 1.]\n",
      " [1. 1. 1.]]\n",
      "[[99 99 99]\n",
      " [99 99 99]\n",
      " [99 99 99]]\n",
      "[[0.93348593 0.12821195 0.42788238]\n",
      " [0.57317785 0.94696391 0.71750505]\n",
      " [0.77893854 0.72249237 0.09268468]]\n"
     ]
    }
   ],
   "source": [
    "# import numpy as np\n",
    "\n",
    "zero = np.zeros((3,3))\n",
    "print (zero)\n",
    "\n",
    "one = np.ones((3,3))\n",
    "print (one)\n",
    "\n",
    "full = np.full((3,3), 99)\n",
    "print (full)\n",
    "\n",
    "rand = np.random.random((3,3))\n",
    "print (rand)"
   ]
  },
  {
   "cell_type": "markdown",
   "id": "09a06ad6",
   "metadata": {},
   "source": [
    "### properties "
   ]
  },
  {
   "cell_type": "code",
   "execution_count": 22,
   "id": "b9112360",
   "metadata": {},
   "outputs": [
    {
     "name": "stdout",
     "output_type": "stream",
     "text": [
      "(8,)\n",
      "1\n",
      "8\n",
      "int64\n",
      "[[1 2 3 4]\n",
      " [5 6 7 8]]\n",
      "[1 2 3 4 5 6 7 8]\n",
      "[1 2 3 4 5 6 7 8]\n",
      "[[1 2 3 4]\n",
      " [5 6 7 8]]\n",
      "[1 2 3 4 5 6 7 8]\n",
      "[[1 2 3 4]\n",
      " [5 6 7 8]]\n",
      "[[[ 1  2]\n",
      "  [ 3  4]]\n",
      "\n",
      " [[ 7  8]\n",
      "  [ 9 10]]]\n",
      "[[[ 1  7]\n",
      "  [ 3  9]]\n",
      "\n",
      " [[ 2  8]\n",
      "  [ 4 10]]]\n"
     ]
    }
   ],
   "source": [
    "arr = np.array([1,2,3,4,5,6,7,8])\n",
    "print (arr.shape)\n",
    "print (arr.ndim)\n",
    "print (arr.size)\n",
    "print (arr.dtype)\n",
    "\n",
    "conv_2d = arr.reshape((2,4))\n",
    "print (conv_2d)\n",
    "print (arr)\n",
    "\n",
    "flat = conv_2d.flatten()\n",
    "print (flat)\n",
    "print (conv_2d)\n",
    "\n",
    "rav = conv_2d.ravel()\n",
    "print (rav)\n",
    "print (conv_2d)\n",
    "\n",
    "tensor = np.array([[[1,2] ,[3,4]], [[7,8] , [9,10]]])\n",
    "print (tensor)\n",
    "\n",
    "trans = tensor.T\n",
    "print (trans)"
   ]
  }
 ],
 "metadata": {
  "kernelspec": {
   "display_name": "learn_numpy",
   "language": "python",
   "name": "python3"
  },
  "language_info": {
   "codemirror_mode": {
    "name": "ipython",
    "version": 3
   },
   "file_extension": ".py",
   "mimetype": "text/x-python",
   "name": "python",
   "nbconvert_exporter": "python",
   "pygments_lexer": "ipython3",
   "version": "3.8.10"
  }
 },
 "nbformat": 4,
 "nbformat_minor": 5
}
