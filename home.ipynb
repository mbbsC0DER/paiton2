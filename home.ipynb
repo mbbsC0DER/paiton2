{
 "cells": [
  {
   "cell_type": "markdown",
   "id": "27a4c4b7-912a-4bff-b70c-7201d2b8c25e",
   "metadata": {},
   "source": [
    "<!-- Good Morning  -->"
   ]
  },
  {
   "cell_type": "markdown",
   "id": "3c0c0c6b-f5bc-4a73-b627-69afd6a6cc57",
   "metadata": {},
   "source": [
    "#hello"
   ]
  },
  {
   "cell_type": "code",
   "execution_count": 3,
   "id": "809fd98b-2150-47aa-89f1-1aa4a7ecbebc",
   "metadata": {},
   "outputs": [
    {
     "name": "stdout",
     "output_type": "stream",
     "text": [
      "hello world\n"
     ]
    }
   ],
   "source": [
    "print (\"hello world\")"
   ]
  },
  {
   "cell_type": "code",
   "execution_count": 1,
   "id": "9c1d709d-4c5e-4288-949b-bddae3cdf478",
   "metadata": {},
   "outputs": [
    {
     "name": "stdout",
     "output_type": "stream",
     "text": [
      "This is inside vs code .\n"
     ]
    }
   ],
   "source": [
    "print (\"This is inside vs code .\")"
   ]
  },
  {
   "cell_type": "code",
   "execution_count": 1,
   "id": "5e3c5715",
   "metadata": {},
   "outputs": [
    {
     "name": "stdout",
     "output_type": "stream",
     "text": [
      "This must show in jupyter nb\n"
     ]
    }
   ],
   "source": [
    "print (\"This must show in jupyter nb\")"
   ]
  },
  {
   "cell_type": "code",
   "execution_count": null,
   "id": "b83532b5",
   "metadata": {},
   "outputs": [],
   "source": []
  },
  {
   "cell_type": "markdown",
   "id": "95b12a46",
   "metadata": {},
   "source": [
    "#Heading"
   ]
  },
  {
   "cell_type": "markdown",
   "id": "691b1fc7",
   "metadata": {},
   "source": [
    "#heading\n",
    "##sub heading\n",
    "###small heading\n",
    "--\n",
    "-this is 1st mark \n",
    "this is a regular text \n"
   ]
  },
  {
   "cell_type": "markdown",
   "id": "63d507b1",
   "metadata": {},
   "source": [
    "#heading\n",
    "##subheading\n",
    " "
   ]
  },
  {
   "cell_type": "code",
   "execution_count": null,
   "id": "aa7b489a",
   "metadata": {},
   "outputs": [],
   "source": [
    "# hello"
   ]
  },
  {
   "cell_type": "markdown",
   "id": "b5251cd1",
   "metadata": {},
   "source": []
  },
  {
   "cell_type": "code",
   "execution_count": 1,
   "id": "ed3459ff",
   "metadata": {},
   "outputs": [],
   "source": [
    "#this is a commennt\n"
   ]
  }
 ],
 "metadata": {
  "kernelspec": {
   "display_name": "myenv_1",
   "language": "python",
   "name": "python3"
  },
  "language_info": {
   "codemirror_mode": {
    "name": "ipython",
    "version": 3
   },
   "file_extension": ".py",
   "mimetype": "text/x-python",
   "name": "python",
   "nbconvert_exporter": "python",
   "pygments_lexer": "ipython3",
   "version": "3.8.10"
  }
 },
 "nbformat": 4,
 "nbformat_minor": 5
}
